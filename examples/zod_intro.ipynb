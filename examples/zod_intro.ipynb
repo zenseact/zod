{
 "cells": [
  {
   "attachments": {},
   "cell_type": "markdown",
   "metadata": {},
   "source": [
    "## ZodFrames & ZodSequences: an introduction\n",
    "This notebook aims to introduce the ZodFrames & ZodSequences classes, which are helper classes to interact with the Frames and Sequences subsets of Zenseact Open Dataset (ZOD). It will highlight some basic functionality that can be used to build dataloaders in various frameworks, for example PyTorch."
   ]
  },
  {
   "cell_type": "code",
   "execution_count": 13,
   "metadata": {},
   "outputs": [],
   "source": [
    "# Import the package\n",
    "from zod import ZodFrames, ZodSequences\n",
    "from zod.dataclasses.zod_dataclasses import LidarData\n",
    "import zod.constants as constants"
   ]
  },
  {
   "cell_type": "code",
   "execution_count": 23,
   "metadata": {},
   "outputs": [
    {
     "name": "stderr",
     "output_type": "stream",
     "text": [
      "Loading train frames: 100%|██████████| 10/10 [00:00<00:00, 2505.86it/s]\n",
      "Loading val frames: 100%|██████████| 2/2 [00:00<00:00, 590.50it/s]\n",
      "Loading train sequences: 100%|██████████| 1/1 [00:00<00:00, 138.46it/s]\n",
      "Loading val sequences: 100%|██████████| 1/1 [00:00<00:00, 226.49it/s]\n"
     ]
    }
   ],
   "source": [
    "# Initialize the class with the dataset root and version, version can be \"mini\" or \"full\"\n",
    "zod_frames = ZodFrames(dataset_root=\"/staging/dataset_donation/round_2\", version=\"mini\")\n",
    "zod_sequences = ZodSequences(dataset_root=\"/staging/dataset_donation/round_2\", version=\"mini\")"
   ]
  },
  {
   "cell_type": "code",
   "execution_count": 15,
   "metadata": {},
   "outputs": [
    {
     "name": "stdout",
     "output_type": "stream",
     "text": [
      "Number of training frames: 10\n",
      "Number of validation frames: 2\n",
      "Number of training sequences: 1\n",
      "Number of validation sequences: 1\n",
      "The 5 first training frames have the ids: ['009158', '018591', '023996', '029229', '044953']\n",
      "The first training sequence has the id: 000002\n"
     ]
    }
   ],
   "source": [
    "# Get the training and validation split\n",
    "training_frames = zod_frames.get_split(constants.TRAIN)\n",
    "validation_frames = zod_frames.get_split(constants.VAL)\n",
    "\n",
    "# Print the number of training and validation frames\n",
    "print(f\"Number of training frames: {len(training_frames)}\")\n",
    "print(f\"Number of validation frames: {len(validation_frames)}\")\n",
    "\n",
    "# Print the number of training and validation sequences\n",
    "training_sequences = zod_sequences.get_split(constants.TRAIN)\n",
    "validation_sequences = zod_sequences.get_split(constants.VAL)\n",
    "print(f\"Number of training sequences: {len(training_sequences)}\")\n",
    "print(f\"Number of validation sequences: {len(validation_sequences)}\")\n",
    "\n",
    "# Print out the first 5 training frames\n",
    "print(\"The 5 first training frames have the ids:\", training_frames[:5])\n",
    "\n",
    "# Show the first training sequence\n",
    "print(\"The first training sequence has the id:\", training_sequences[0])"
   ]
  },
  {
   "cell_type": "code",
   "execution_count": 16,
   "metadata": {},
   "outputs": [],
   "source": [
    "# We can also get a frame by its id\n",
    "frame_from_id = zod_frames[\"009158\"]\n",
    "\n",
    "# We can also get it via the index\n",
    "frame_from_idx = zod_frames[9158]\n",
    "\n",
    "# The two frames should be the same\n",
    "assert frame_from_id.info == frame_from_idx.info"
   ]
  },
  {
   "cell_type": "code",
   "execution_count": 17,
   "metadata": {},
   "outputs": [
    {
     "name": "stdout",
     "output_type": "stream",
     "text": [
      "Acceleration: (22, 3)\n",
      "Velocities: (22, 3)\n",
      "Poses: (22, 4, 4)\n",
      "Timestamps: (22,)\n"
     ]
    }
   ],
   "source": [
    "# We can use the frame to get the ego-motion of the vehicle\n",
    "ego_motion = frame_from_id.ego_motion\n",
    "print(f\"Acceleration: {ego_motion.accelerations.shape}\")\n",
    "print(f\"Velocities: {ego_motion.velocities.shape}\")\n",
    "print(f\"Poses: {ego_motion.poses.shape}\")\n",
    "print(f\"Timestamps: {ego_motion.timestamps.shape}\")"
   ]
  },
  {
   "cell_type": "code",
   "execution_count": 18,
   "metadata": {},
   "outputs": [
    {
     "name": "stdout",
     "output_type": "stream",
     "text": [
      "Acceleration: (3616, 3)\n",
      "Velocities: (3616, 3)\n",
      "Poses: (3616, 4, 4)\n",
      "Timestamps: (3616,)\n"
     ]
    }
   ],
   "source": [
    "# Note that the ego-motion is a lightweight version of the oxts data\n",
    "oxts = frame_from_id.oxts\n",
    "print(f\"Acceleration: {oxts.accelerations.shape}\")\n",
    "print(f\"Velocities: {oxts.velocities.shape}\")\n",
    "print(f\"Poses: {oxts.poses.shape}\")\n",
    "print(f\"Timestamps: {oxts.timestamps.shape}\")"
   ]
  },
  {
   "attachments": {},
   "cell_type": "markdown",
   "metadata": {},
   "source": [
    "Note that the ZodFrames class yield a `ZodFrame` which acts a cache for the lightweight data (e.g., ego-motion, calibration, and metadata), but also holds an `info` attribute. This in turn holds all the paths to more heavyweight data (e.g., images and point clouds)."
   ]
  },
  {
   "cell_type": "code",
   "execution_count": 19,
   "metadata": {},
   "outputs": [
    {
     "name": "stdout",
     "output_type": "stream",
     "text": [
      "{\n",
      "  \"filepath\": \"/staging/dataset_donation/round_2/single_frames/009158/lidar_velodyne/009158_india_2020-11-21T09:44:55.416922Z.npy\",\n",
      "  \"time\": \"2020-11-21T09:44:55.416922Z\"\n",
      "}\n"
     ]
    }
   ],
   "source": [
    "# Get the lidar core-frame for this ZodFrame\n",
    "lidar_core_frame = frame_from_id.info.get_keyframe_lidar_frame()\n",
    "print(lidar_core_frame)"
   ]
  },
  {
   "cell_type": "code",
   "execution_count": 20,
   "metadata": {},
   "outputs": [
    {
     "name": "stdout",
     "output_type": "stream",
     "text": [
      "Points: (298290, 3)\n",
      "Timestamps: (298290,)\n",
      "Intensity: (298290,)\n",
      "Diode: (298290,)\n"
     ]
    }
   ],
   "source": [
    "# Load the lidar data\n",
    "pc = LidarData.from_npy(lidar_core_frame.filepath)\n",
    "print(f\"Points: {pc.points.shape}\")  # x, y, z\n",
    "print(f\"Timestamps: {pc.timestamps.shape}\")\n",
    "print(f\"Intensity: {pc.intensity.shape}\")\n",
    "print(f\"Diode: {pc.diode_idx.shape}\")"
   ]
  },
  {
   "cell_type": "code",
   "execution_count": 21,
   "metadata": {},
   "outputs": [
    {
     "name": "stdout",
     "output_type": "stream",
     "text": [
      "Lidar frame # 0\n",
      "Points: (297756, 3)\n",
      "--------------------\n",
      "Lidar frame # 1\n",
      "Points: (298300, 3)\n",
      "--------------------\n",
      "Lidar frame # 2\n",
      "Points: (298155, 3)\n",
      "--------------------\n",
      "Lidar frame # 3\n",
      "Points: (298749, 3)\n",
      "--------------------\n",
      "Lidar frame # 4\n",
      "Points: (298738, 3)\n",
      "--------------------\n",
      "Lidar frame # 5\n",
      "Points: (298576, 3)\n",
      "--------------------\n",
      "Lidar frame # 6\n",
      "Points: (298743, 3)\n",
      "--------------------\n",
      "Lidar frame # 7\n",
      "Points: (298735, 3)\n",
      "--------------------\n",
      "Lidar frame # 8\n",
      "Points: (298716, 3)\n",
      "--------------------\n",
      "Lidar frame # 9\n",
      "Points: (298541, 3)\n",
      "--------------------\n",
      "Lidar frame # 10\n",
      "Points: (298290, 3)\n",
      "--------------------\n",
      "Lidar frame # 11\n",
      "Points: (298109, 3)\n",
      "--------------------\n",
      "Lidar frame # 12\n",
      "Points: (297850, 3)\n",
      "--------------------\n",
      "Lidar frame # 13\n",
      "Points: (297175, 3)\n",
      "--------------------\n",
      "Lidar frame # 14\n",
      "Points: (297078, 3)\n",
      "--------------------\n",
      "Lidar frame # 15\n",
      "Points: (296966, 3)\n",
      "--------------------\n",
      "Lidar frame # 16\n",
      "Points: (296954, 3)\n",
      "--------------------\n",
      "Lidar frame # 17\n",
      "Points: (296625, 3)\n",
      "--------------------\n",
      "Lidar frame # 18\n",
      "Points: (296455, 3)\n",
      "--------------------\n",
      "Lidar frame # 19\n",
      "Points: (296133, 3)\n",
      "--------------------\n",
      "Lidar frame # 20\n",
      "Points: (296097, 3)\n",
      "--------------------\n"
     ]
    }
   ],
   "source": [
    "# We can also iterate over all point-clouds\n",
    "lidar_frames = frame_from_id.info.get_lidar_frames()\n",
    "for i, lidar_frame in enumerate(lidar_frames):\n",
    "    pc = LidarData.from_npy(lidar_frame.filepath)\n",
    "    print(f\"Lidar frame # {i}\")\n",
    "    print(f\"Points: {pc.points.shape}\")  # x, y, z\n",
    "    print(\"-\" * 20)"
   ]
  },
  {
   "cell_type": "code",
   "execution_count": 22,
   "metadata": {},
   "outputs": [
    {
     "name": "stdout",
     "output_type": "stream",
     "text": [
      "Number of lidar frames: 181\n",
      "Number of camera frames: 201\n",
      "Timespan: 20.000197\n"
     ]
    }
   ],
   "source": [
    "# We can do the same for the sequences\n",
    "seq = zod_sequences[training_sequences[0]]\n",
    "\n",
    "# Get the lidar frames\n",
    "print(f\"Number of lidar frames: {len(seq.info.get_lidar_frames(lidar=constants.Lidar.velodyne))}\")\n",
    "\n",
    "# We can also get the original camera frames\n",
    "print(\n",
    "    f\"Number of camera frames: {len(seq.info.get_camera_frames(anonymization=constants.Anonymization.original))}\"\n",
    ")\n",
    "\n",
    "# Or see how long the sequence is\n",
    "print(f\"Timespan: {(seq.info.end_time - seq.info.start_time).total_seconds()}\")"
   ]
  },
  {
   "cell_type": "code",
   "execution_count": null,
   "metadata": {},
   "outputs": [],
   "source": []
  }
 ],
 "metadata": {
  "kernelspec": {
   "display_name": "Python 3.10.9 ('zod')",
   "language": "python",
   "name": "python3"
  },
  "language_info": {
   "codemirror_mode": {
    "name": "ipython",
    "version": 3
   },
   "file_extension": ".py",
   "mimetype": "text/x-python",
   "name": "python",
   "nbconvert_exporter": "python",
   "pygments_lexer": "ipython3",
   "version": "3.10.9"
  },
  "orig_nbformat": 4,
  "vscode": {
   "interpreter": {
    "hash": "bf01abf82ecef80c32d8e931926ae3a279c50e988a79abe7f7228cbe386411b0"
   }
  }
 },
 "nbformat": 4,
 "nbformat_minor": 2
}
